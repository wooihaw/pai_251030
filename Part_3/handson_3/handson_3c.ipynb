{
 "cells": [
  {
   "cell_type": "markdown",
   "id": "67305e82",
   "metadata": {
    "colab_type": "text",
    "id": "view-in-github"
   },
   "source": [
    "<a href=\"https://colab.research.google.com/github/wooihaw/pai_251013/blob/main/Part_3/handson_3/handson_3c.ipynb\" target=\"_parent\"><img src=\"https://colab.research.google.com/assets/colab-badge.svg\" alt=\"Open In Colab\"/></a>"
   ]
  },
  {
   "cell_type": "markdown",
   "id": "9acdec19",
   "metadata": {
    "id": "9acdec19"
   },
   "source": [
    "## Hands-on 3C\n",
    "#### Build 3 classification models to classify faulty steel plates. The dataset contains information about steel plates and their faults. There are 27 features and the data samples have been classified into 7 different types of steel plate faults."
   ]
  },
  {
   "cell_type": "code",
   "execution_count": 1,
   "id": "6481264f",
   "metadata": {
    "id": "6481264f",
    "tags": []
   },
   "outputs": [],
   "source": [
    "# Initialization\n",
    "%matplotlib inline\n",
    "from warnings import filterwarnings\n",
    "filterwarnings('ignore')"
   ]
  },
  {
   "cell_type": "code",
   "execution_count": 2,
   "id": "1ae13063",
   "metadata": {
    "id": "1ae13063",
    "tags": []
   },
   "outputs": [],
   "source": [
    "# Load the required libraries\n",
    "import sys\n",
    "from pandas import read_csv\n",
    "from sklearn.model_selection import train_test_split as split, KFold, cross_val_score\n",
    "from sklearn.linear_model import LogisticRegression\n",
    "from sklearn.tree import DecisionTreeClassifier\n",
    "from sklearn.neighbors import KNeighborsClassifier\n",
    "from sklearn.preprocessing import StandardScaler\n",
    "from sklearn.decomposition import PCA"
   ]
  },
  {
   "cell_type": "code",
   "execution_count": 3,
   "id": "5dbfb794",
   "metadata": {
    "id": "5dbfb794",
    "tags": []
   },
   "outputs": [],
   "source": [
    "# Load the dataset\n",
    "# Determine the environment\n",
    "is_colab = 'google.colab' in sys.modules\n",
    "\n",
    "# Execute code conditionally\n",
    "if is_colab:\n",
    "    # Code for Google Colab environment\n",
    "    df = read_csv(\"https://raw.githubusercontent.com/wooihaw/datasets/main/steel_faults.csv\")\n",
    "else:\n",
    "    # Code for local Jupyter Notebook environment\n",
    "    df = read_csv(\"steel_faults.csv\")"
   ]
  },
  {
   "cell_type": "markdown",
   "id": "f1ac88e3",
   "metadata": {
    "id": "f1ac88e3"
   },
   "source": [
    "**To do:**\n",
    "- Print 5 random data samples from the dataset"
   ]
  },
  {
   "cell_type": "code",
   "execution_count": 4,
   "id": "a3f0b6ab",
   "metadata": {
    "id": "a3f0b6ab",
    "tags": []
   },
   "outputs": [
    {
     "data": {
      "text/html": [
       "<div>\n",
       "<style scoped>\n",
       "    .dataframe tbody tr th:only-of-type {\n",
       "        vertical-align: middle;\n",
       "    }\n",
       "\n",
       "    .dataframe tbody tr th {\n",
       "        vertical-align: top;\n",
       "    }\n",
       "\n",
       "    .dataframe thead th {\n",
       "        text-align: right;\n",
       "    }\n",
       "</style>\n",
       "<table border=\"1\" class=\"dataframe\">\n",
       "  <thead>\n",
       "    <tr style=\"text-align: right;\">\n",
       "      <th></th>\n",
       "      <th>X_Minimum</th>\n",
       "      <th>X_Maximum</th>\n",
       "      <th>Y_Minimum</th>\n",
       "      <th>Y_Maximum</th>\n",
       "      <th>Pixels_Areas</th>\n",
       "      <th>X_Perimeter</th>\n",
       "      <th>Y_Perimeter</th>\n",
       "      <th>Sum_of_Luminosity</th>\n",
       "      <th>Minimum_of_Luminosity</th>\n",
       "      <th>Maximum_of_Luminosity</th>\n",
       "      <th>...</th>\n",
       "      <th>Edges_X_Index</th>\n",
       "      <th>Edges_Y_Index</th>\n",
       "      <th>Outside_Global_Index</th>\n",
       "      <th>LogOfAreas</th>\n",
       "      <th>Log_X_Index</th>\n",
       "      <th>Log_Y_Index</th>\n",
       "      <th>Orientation_Index</th>\n",
       "      <th>Luminosity_Index</th>\n",
       "      <th>SigmoidOfAreas</th>\n",
       "      <th>Fault</th>\n",
       "    </tr>\n",
       "  </thead>\n",
       "  <tbody>\n",
       "    <tr>\n",
       "      <th>758</th>\n",
       "      <td>425</td>\n",
       "      <td>430</td>\n",
       "      <td>1444004</td>\n",
       "      <td>1444009</td>\n",
       "      <td>17</td>\n",
       "      <td>6</td>\n",
       "      <td>5</td>\n",
       "      <td>2181</td>\n",
       "      <td>122</td>\n",
       "      <td>132</td>\n",
       "      <td>...</td>\n",
       "      <td>0.8333</td>\n",
       "      <td>1.0000</td>\n",
       "      <td>0.5</td>\n",
       "      <td>1.2305</td>\n",
       "      <td>0.6990</td>\n",
       "      <td>0.6990</td>\n",
       "      <td>0.0000</td>\n",
       "      <td>0.0023</td>\n",
       "      <td>0.1361</td>\n",
       "      <td>Stains</td>\n",
       "    </tr>\n",
       "    <tr>\n",
       "      <th>656</th>\n",
       "      <td>39</td>\n",
       "      <td>216</td>\n",
       "      <td>2201440</td>\n",
       "      <td>2201499</td>\n",
       "      <td>5933</td>\n",
       "      <td>312</td>\n",
       "      <td>167</td>\n",
       "      <td>614522</td>\n",
       "      <td>38</td>\n",
       "      <td>125</td>\n",
       "      <td>...</td>\n",
       "      <td>0.5673</td>\n",
       "      <td>0.3533</td>\n",
       "      <td>0.0</td>\n",
       "      <td>3.7733</td>\n",
       "      <td>2.2480</td>\n",
       "      <td>1.7708</td>\n",
       "      <td>-0.6667</td>\n",
       "      <td>-0.1908</td>\n",
       "      <td>1.0000</td>\n",
       "      <td>K_Scatch</td>\n",
       "    </tr>\n",
       "    <tr>\n",
       "      <th>1478</th>\n",
       "      <td>385</td>\n",
       "      <td>399</td>\n",
       "      <td>4138007</td>\n",
       "      <td>4138019</td>\n",
       "      <td>125</td>\n",
       "      <td>17</td>\n",
       "      <td>13</td>\n",
       "      <td>14167</td>\n",
       "      <td>83</td>\n",
       "      <td>141</td>\n",
       "      <td>...</td>\n",
       "      <td>0.8235</td>\n",
       "      <td>0.9231</td>\n",
       "      <td>0.0</td>\n",
       "      <td>2.0969</td>\n",
       "      <td>1.1461</td>\n",
       "      <td>1.0792</td>\n",
       "      <td>-0.1429</td>\n",
       "      <td>-0.1146</td>\n",
       "      <td>0.2901</td>\n",
       "      <td>Other_Faults</td>\n",
       "    </tr>\n",
       "    <tr>\n",
       "      <th>635</th>\n",
       "      <td>39</td>\n",
       "      <td>216</td>\n",
       "      <td>1903355</td>\n",
       "      <td>1903423</td>\n",
       "      <td>6878</td>\n",
       "      <td>247</td>\n",
       "      <td>128</td>\n",
       "      <td>709363</td>\n",
       "      <td>38</td>\n",
       "      <td>126</td>\n",
       "      <td>...</td>\n",
       "      <td>0.7166</td>\n",
       "      <td>0.5313</td>\n",
       "      <td>0.0</td>\n",
       "      <td>3.8375</td>\n",
       "      <td>2.2480</td>\n",
       "      <td>1.8325</td>\n",
       "      <td>-0.6158</td>\n",
       "      <td>-0.1943</td>\n",
       "      <td>1.0000</td>\n",
       "      <td>K_Scatch</td>\n",
       "    </tr>\n",
       "    <tr>\n",
       "      <th>1639</th>\n",
       "      <td>331</td>\n",
       "      <td>347</td>\n",
       "      <td>2077064</td>\n",
       "      <td>2077074</td>\n",
       "      <td>88</td>\n",
       "      <td>17</td>\n",
       "      <td>11</td>\n",
       "      <td>10515</td>\n",
       "      <td>111</td>\n",
       "      <td>132</td>\n",
       "      <td>...</td>\n",
       "      <td>0.9412</td>\n",
       "      <td>0.9091</td>\n",
       "      <td>0.0</td>\n",
       "      <td>1.9445</td>\n",
       "      <td>1.2041</td>\n",
       "      <td>1.0000</td>\n",
       "      <td>-0.3750</td>\n",
       "      <td>-0.0665</td>\n",
       "      <td>0.2792</td>\n",
       "      <td>Other_Faults</td>\n",
       "    </tr>\n",
       "  </tbody>\n",
       "</table>\n",
       "<p>5 rows × 28 columns</p>\n",
       "</div>"
      ],
      "text/plain": [
       "      X_Minimum  X_Maximum  Y_Minimum  Y_Maximum  Pixels_Areas  X_Perimeter  \\\n",
       "758         425        430    1444004    1444009            17            6   \n",
       "656          39        216    2201440    2201499          5933          312   \n",
       "1478        385        399    4138007    4138019           125           17   \n",
       "635          39        216    1903355    1903423          6878          247   \n",
       "1639        331        347    2077064    2077074            88           17   \n",
       "\n",
       "      Y_Perimeter  Sum_of_Luminosity  Minimum_of_Luminosity  \\\n",
       "758             5               2181                    122   \n",
       "656           167             614522                     38   \n",
       "1478           13              14167                     83   \n",
       "635           128             709363                     38   \n",
       "1639           11              10515                    111   \n",
       "\n",
       "      Maximum_of_Luminosity  ...  Edges_X_Index  Edges_Y_Index  \\\n",
       "758                     132  ...         0.8333         1.0000   \n",
       "656                     125  ...         0.5673         0.3533   \n",
       "1478                    141  ...         0.8235         0.9231   \n",
       "635                     126  ...         0.7166         0.5313   \n",
       "1639                    132  ...         0.9412         0.9091   \n",
       "\n",
       "      Outside_Global_Index  LogOfAreas  Log_X_Index  Log_Y_Index  \\\n",
       "758                    0.5      1.2305       0.6990       0.6990   \n",
       "656                    0.0      3.7733       2.2480       1.7708   \n",
       "1478                   0.0      2.0969       1.1461       1.0792   \n",
       "635                    0.0      3.8375       2.2480       1.8325   \n",
       "1639                   0.0      1.9445       1.2041       1.0000   \n",
       "\n",
       "      Orientation_Index  Luminosity_Index  SigmoidOfAreas         Fault  \n",
       "758              0.0000            0.0023          0.1361        Stains  \n",
       "656             -0.6667           -0.1908          1.0000      K_Scatch  \n",
       "1478            -0.1429           -0.1146          0.2901  Other_Faults  \n",
       "635             -0.6158           -0.1943          1.0000      K_Scatch  \n",
       "1639            -0.3750           -0.0665          0.2792  Other_Faults  \n",
       "\n",
       "[5 rows x 28 columns]"
      ]
     },
     "execution_count": 4,
     "metadata": {},
     "output_type": "execute_result"
    }
   ],
   "source": [
    "df.sample(5)"
   ]
  },
  {
   "cell_type": "markdown",
   "id": "c01cb8e5",
   "metadata": {
    "id": "c01cb8e5"
   },
   "source": [
    "**To do:**\n",
    "- Separate the dataset into features (X) and targets (y)"
   ]
  },
  {
   "cell_type": "code",
   "execution_count": 5,
   "id": "60dcdb69",
   "metadata": {
    "id": "60dcdb69",
    "tags": []
   },
   "outputs": [],
   "source": [
    "X = df.drop(columns=['Fault'])\n",
    "y = df['Fault']"
   ]
  },
  {
   "cell_type": "markdown",
   "id": "a354ee9c",
   "metadata": {
    "id": "a354ee9c"
   },
   "source": [
    "**To do:**\n",
    "- Evaluate the performance of k-Nearest Neighbors, Logistic Regression and Decision Tree on this dataset using 5-fold cross validation."
   ]
  },
  {
   "cell_type": "code",
   "execution_count": 6,
   "id": "89c13b59",
   "metadata": {
    "id": "89c13b59",
    "tags": []
   },
   "outputs": [
    {
     "name": "stdout",
     "output_type": "stream",
     "text": [
      "knn: 46.368%, 3.167%\n",
      "lgr: 45.594%, 2.025%\n",
      "dtc: 70.736%, 2.008%\n"
     ]
    }
   ],
   "source": [
    "models = {}\n",
    "models['knn'] = KNeighborsClassifier()\n",
    "models['lgr'] = LogisticRegression()\n",
    "models['dtc'] = DecisionTreeClassifier(random_state=42)\n",
    "\n",
    "kf = KFold(n_splits=5, shuffle=True, random_state=42)\n",
    "\n",
    "for m in models:\n",
    "    scores = cross_val_score(models[m], X, y, cv=kf, n_jobs=-1)\n",
    "    print(f\"{m}: {scores.mean():.3%}, {scores.std():.3%}\")"
   ]
  },
  {
   "cell_type": "markdown",
   "id": "6b870137",
   "metadata": {
    "id": "6b870137"
   },
   "source": [
    "**To do:**\n",
    "- Peform feature scaling using standard scaler. Evaluate the performance of k-Nearest Neighbors, Logistic Regression and Decision Tree on the scaled features using 5-fold cross validation."
   ]
  },
  {
   "cell_type": "code",
   "execution_count": 7,
   "id": "dd8607c8",
   "metadata": {
    "id": "dd8607c8",
    "tags": []
   },
   "outputs": [
    {
     "name": "stdout",
     "output_type": "stream",
     "text": [
      "knn: 73.983%, 2.111%\n",
      "lgr: 71.302%, 3.089%\n",
      "dtc: 70.684%, 2.033%\n"
     ]
    }
   ],
   "source": [
    "scl = StandardScaler()\n",
    "Xs = scl.fit_transform(X)\n",
    "\n",
    "for m in models:\n",
    "    scores = cross_val_score(models[m], Xs, y, cv=kf, n_jobs=-1)\n",
    "    print(f\"{m}: {scores.mean():.3%}, {scores.std():.3%}\")"
   ]
  },
  {
   "cell_type": "markdown",
   "id": "29c9798a",
   "metadata": {
    "id": "29c9798a"
   },
   "source": [
    "**To do:**\n",
    "- Use Principle Component Analysis (PCA) to reduce the dimensionality of the scaled features to 13. Evaluate the performance of k-Nearest Neighbors, Logistic Regression and Decision Tree on these features using 5-fold cross validation."
   ]
  },
  {
   "cell_type": "code",
   "execution_count": 8,
   "id": "8585e37c",
   "metadata": {
    "id": "8585e37c",
    "tags": []
   },
   "outputs": [
    {
     "name": "stdout",
     "output_type": "stream",
     "text": [
      "knn: 73.725%, 1.527%\n",
      "lgr: 70.683%, 3.247%\n",
      "dtc: 63.783%, 3.215%\n"
     ]
    }
   ],
   "source": [
    "pca = PCA(n_components=13)\n",
    "Xsr = pca.fit_transform(Xs)\n",
    "\n",
    "for m in models:\n",
    "    scores = cross_val_score(models[m], Xsr, y, cv=kf, n_jobs=-1)\n",
    "    print(f\"{m}: {scores.mean():.3%}, {scores.std():.3%}\")"
   ]
  },
  {
   "cell_type": "code",
   "execution_count": null,
   "id": "759b5dc8-adf2-44cc-bada-32a41ba573f6",
   "metadata": {},
   "outputs": [],
   "source": []
  }
 ],
 "metadata": {
  "colab": {
   "include_colab_link": true,
   "provenance": []
  },
  "kernelspec": {
   "display_name": "Python 3 (ipykernel)",
   "language": "python",
   "name": "python3"
  },
  "language_info": {
   "codemirror_mode": {
    "name": "ipython",
    "version": 3
   },
   "file_extension": ".py",
   "mimetype": "text/x-python",
   "name": "python",
   "nbconvert_exporter": "python",
   "pygments_lexer": "ipython3",
   "version": "3.13.2"
  }
 },
 "nbformat": 4,
 "nbformat_minor": 5
}
